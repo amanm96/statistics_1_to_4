{
 "cells": [
  {
   "cell_type": "markdown",
   "metadata": {},
   "source": [
    "##  STATISTICS 1"
   ]
  },
  {
   "cell_type": "markdown",
   "metadata": {},
   "source": [
    "### 1. You survey households in your area to find the average rent they are paying. Find the standard deviation from the following data: \n",
    "$1550, $1700, $900, $850, $1000, $950.\n"
   ]
  },
  {
   "cell_type": "code",
   "execution_count": 4,
   "metadata": {},
   "outputs": [
    {
     "name": "stdout",
     "output_type": "stream",
     "text": [
      "[1550, 1700, 900, 850, 1000, 950]\n",
      "The average rent is 1158.33\n",
      "The standard deviation is 335.93\n"
     ]
    }
   ],
   "source": [
    "import numpy as np\n",
    "\n",
    "x=list([1550,1700,900,850,1000,950])\n",
    "print(x)\n",
    "\n",
    "mean=np.mean(x)\n",
    "print(\"The average rent is {:.2f}\".format(mean))\n",
    "variance=np.var(x)\n",
    "std=np.std(x)\n",
    "print(\"The standard deviation is {:.2f}\".format(std))"
   ]
  },
  {
   "cell_type": "markdown",
   "metadata": {},
   "source": [
    "### 2. Find the variance for the following set of data representing trees in California (heights in feet):\n",
    "3, 21, 98, 203, 17, 9"
   ]
  },
  {
   "cell_type": "code",
   "execution_count": 7,
   "metadata": {},
   "outputs": [
    {
     "name": "stdout",
     "output_type": "stream",
     "text": [
      "[3, 21, 98, 203, 17, 9]\n",
      "the variance is 5183.25\n"
     ]
    }
   ],
   "source": [
    "x=list([3, 21, 98, 203, 17, 9])\n",
    "print(x)\n",
    "variance=np.var(x)\n",
    "print(\"the variance is {:.2f}\".format(variance))"
   ]
  },
  {
   "cell_type": "markdown",
   "metadata": {},
   "source": [
    "### 3. In a class on 100 students, 80 students passed in all subjects, 10 failed in one subject, 7 failed in two subjects and 3 failed in three subjects. Find the probability distribution of the variable for number of subjects a student from the given class has failed in.\n"
   ]
  },
  {
   "cell_type": "code",
   "execution_count": 1,
   "metadata": {},
   "outputs": [
    {
     "name": "stdout",
     "output_type": "stream",
     "text": [
      "Total number of students in the class : 100\n",
      "Probability of falling in 0 subjects : 0.8\n",
      "Probability of falling in 1 subjects : 0.1\n",
      "Probability of falling in 2 subjects : 0.07\n",
      "Probability of falling in 3 subjects : 0.03\n"
     ]
    }
   ],
   "source": [
    "print(\"Total number of students in the class : 100\")\n",
    "print(\"Probability of falling in {} subjects : {}\".format(0, 80/100))\n",
    "print(\"Probability of falling in {} subjects : {}\".format(1, 10/100))\n",
    "print(\"Probability of falling in {} subjects : {}\".format(2, 7/100))\n",
    "print(\"Probability of falling in {} subjects : {}\".format(3, 3/100))"
   ]
  },
  {
   "cell_type": "markdown",
   "metadata": {},
   "source": [
    "## STATISTICS 2"
   ]
  },
  {
   "cell_type": "markdown",
   "metadata": {},
   "source": [
    "### 1. A test is conducted which is consisting of 20 MCQs (multiple choices questions) with every MCQ having its four options out of which only one is correct. Determine the probability that a person undertaking that test has answered exactly 5 questions wrong."
   ]
  },
  {
   "cell_type": "code",
   "execution_count": 4,
   "metadata": {},
   "outputs": [
    {
     "name": "stdout",
     "output_type": "stream",
     "text": [
      "n_fact 2432902008176640000\n",
      "n_fact 2432902008176640000\n",
      "fail_fact 120\n",
      "probability to get 5 wrong is : 3.4264958230778575e-06\n"
     ]
    }
   ],
   "source": [
    "from functools import reduce\n",
    "n=20\n",
    "s=5\n",
    "k=15\n",
    "\n",
    "p=1/4\n",
    "q=1-p\n",
    "\n",
    "array=[i for i in range(1,21)]\n",
    "n_fact=reduce(lambda x,y : x*y,array)\n",
    "print(\"n_fact\",n_fact)\n",
    "\n",
    "pass_fact=reduce(lambda x,y:x*y,array[0:15])\n",
    "print(\"n_fact\",n_fact)\n",
    "\n",
    "fail_fact=reduce(lambda x,y :x*y, array[0:5])\n",
    "print(\"fail_fact\",fail_fact)\n",
    "\n",
    "prob=(n_fact/(pass_fact*fail_fact))*(p**k)*(q**s)\n",
    "print(\"probability to get 5 wrong is :\",prob)\n"
   ]
  },
  {
   "cell_type": "code",
   "execution_count": 5,
   "metadata": {},
   "outputs": [
    {
     "data": {
      "text/plain": [
       "3.4264958230778435e-06"
      ]
     },
     "execution_count": 5,
     "metadata": {},
     "output_type": "execute_result"
    }
   ],
   "source": [
    "scipy.stats.binom.pmf(s,n,q)"
   ]
  },
  {
   "cell_type": "markdown",
   "metadata": {},
   "source": [
    "### 2. A die marked A to E is rolled 50 times. Find the probability of getting a “D” exactly 5 times."
   ]
  },
  {
   "cell_type": "code",
   "execution_count": 2,
   "metadata": {},
   "outputs": [
    {
     "name": "stdout",
     "output_type": "stream",
     "text": [
      "Probability of coming D  0.2\n",
      "Probability of getting a “D” exactly 5 times 0.029531204310523224\n"
     ]
    }
   ],
   "source": [
    "from scipy import stats\n",
    "import scipy\n",
    "n=50\n",
    "p=1/5\n",
    "print(\"Probability of coming D \",p)\n",
    "\n",
    "prob=stats.binom.pmf(5,n,p)\n",
    "print(\"Probability of getting a “D” exactly 5 times\",prob)"
   ]
  },
  {
   "cell_type": "markdown",
   "metadata": {},
   "source": [
    "### 3. Two balls are drawn at random in succession without replacement from an urn containing 4 red balls and 6 black balls. Find the probabilities of all the possible outcomes."
   ]
  },
  {
   "cell_type": "code",
   "execution_count": 57,
   "metadata": {},
   "outputs": [
    {
     "name": "stdout",
     "output_type": "stream",
     "text": [
      "probablity of picking 1st red ball and black ball second is(0.40,0.67)\n",
      "probality of picking of black ball first and red ball second is (0.60,0.44)\n",
      "probality of picking of both balls as black is (0.6000000000)\n",
      "probality of picking of black ball first and red ball second is (0.60,0.44)\n"
     ]
    }
   ],
   "source": [
    "from scipy.special import factorial \n",
    "red_ball=4\n",
    "black_ball=6\n",
    "total_balls= red_ball + black_ball\n",
    "\n",
    "#probablity of picking a red ball is 4 out of 10,so the probability is 4/10\n",
    "p_1_red_ball= red_ball/total_balls\n",
    "\n",
    "p_2_black_ball= black_ball/(total_balls-1)\n",
    "\n",
    "p_1_black_ball=black_ball/total_balls\n",
    "\n",
    "p_2_red_ball=red_ball/(total_balls-1)\n",
    "\n",
    "p_2_r=(factorial(red_ball)/(factorial(2) * factorial(red_ball-2)))/(factorial(total_balls)\n",
    "                                                                    / factorial(2)*factorial(total_balls-2))\n",
    "\n",
    "print(\"probablity of picking 1st red ball and black ball second is({:0.2f},{:0.2f})\".format\n",
    "     (p_1_red_ball,p_2_black_ball))\n",
    "print(\"probality of picking of black ball first and red ball second is ({:0.2f},{:0.2f})\".format\n",
    "      (p_1_black_ball,p_2_red_ball))\n",
    "print(\"probality of picking of both balls as black is ({:0.10f})\".format\n",
    "      (p_1_black_ball,p_2_red_ball))\n",
    "print(\"probality of picking of black ball first and red ball second is ({:0.2f},{:0.2f})\".format\n",
    "      (p_1_black_ball,p_2_red_ball))\n",
    "\n",
    "\n",
    "\n"
   ]
  },
  {
   "cell_type": "markdown",
   "metadata": {},
   "source": [
    "## STATISTICS 3"
   ]
  },
  {
   "cell_type": "markdown",
   "metadata": {},
   "source": [
    "### Blood glucose levels for obese patients have a mean of 100 with a standard deviation of 15. A researcher thinks that a diet high in raw cornstarch will have a positive effect on blood glucose levels. A sample of 36 patients who have tried the raw cornstarch diet have a mean glucose level of 108. Test the hypothesis that the raw cornstarch had an effect or not.\n"
   ]
  },
  {
   "cell_type": "code",
   "execution_count": 45,
   "metadata": {},
   "outputs": [
    {
     "name": "stdout",
     "output_type": "stream",
     "text": [
      "The z score is 3.2\n",
      "By looking this value up in z table, we get a value of 0.9993\n",
      "Which implies the probability of having value less than 108 is 99.93% and more than or equals to 108 is 0.007\n",
      "It is less than 0.05 so we will reject the Null hypothesis i.e. there is raw cornstarch effect\n"
     ]
    }
   ],
   "source": [
    "import math\n",
    "Sample_count=36\n",
    "Sample_Mean=108\n",
    "Population_Mean=100\n",
    "Population_sigma=15\n",
    "z=(Sample_Mean-Population_Mean)/(Population_sigma/math.sqrt(Sample_count))\n",
    "print('The z score is',z)\n",
    "print('By looking this value up in z table, we get a value of 0.9993')\n",
    "print('Which implies the probability of having value less than 108 is 99.93% and more than or equals to 108 is 0.007')\n",
    "print('It is less than 0.05 so we will reject the Null hypothesis i.e. there is raw cornstarch effect')"
   ]
  },
  {
   "cell_type": "markdown",
   "metadata": {},
   "source": [
    "#### 1. In one state, 52% of the voters are Republicans, and 48% are Democrats. In a second state, 47% of the voters are Republicans, and 53% are Democrats. Suppose a simple random sample of 100 voters are surveyed from each state. What is the probability that the survey will show a greater percentage of Republican voters in the second state than in the first state?\n"
   ]
  },
  {
   "cell_type": "code",
   "execution_count": 46,
   "metadata": {},
   "outputs": [
    {
     "name": "stdout",
     "output_type": "stream",
     "text": [
      "Mu:  0.050000000000000044 Std:  0.07061869440877536\n",
      "Z_score(P_1,P_2): -0.7080278164104213\n",
      "The probability that the surbay will show a greater percentage of Republican voters in the second state than in the first state id 0.24.\n"
     ]
    }
   ],
   "source": [
    "N1=100\n",
    "N2=100\n",
    "P1=0.52\n",
    "Q1=0.48\n",
    "P2=0.47\n",
    "Q2=0.53\n",
    "mu=P1-P2\n",
    "std=math.sqrt(((P1*Q1)/N1)+((P2*Q2)/N2))\n",
    "print(\"Mu: \",mu,\"Std: \",std)\n",
    "x=0\n",
    "Z=(x-mu)/std\n",
    "print(\"Z_score(P_1,P_2):\",Z)\n",
    "print(\"The probability that the surbay will show a greater percentage of Republican voters in the second state than in the first state id 0.24.\")"
   ]
  },
  {
   "cell_type": "markdown",
   "metadata": {},
   "source": [
    "#### 2. You take the SAT and score 1100. The mean score for the SAT is 1026 and the standard deviation is 209. How well did you score on the test compared to the average test taker?"
   ]
  },
  {
   "cell_type": "code",
   "execution_count": 47,
   "metadata": {},
   "outputs": [
    {
     "name": "stdout",
     "output_type": "stream",
     "text": [
      "Z Score: 0.35406698564593303\n",
      "The above calculatioin shows that my score is 0.35 standard deviations above the mean\n"
     ]
    }
   ],
   "source": [
    "x=1100\n",
    "mu=1026\n",
    "sd=209\n",
    "z=(x-mu)/sd\n",
    "print(\"Z Score:\",z)\n",
    "print(\"The above calculatioin shows that my score is 0.35 standard deviations above the mean\")"
   ]
  },
  {
   "cell_type": "markdown",
   "metadata": {},
   "source": [
    "##  STATISTICS 4"
   ]
  },
  {
   "cell_type": "markdown",
   "metadata": {},
   "source": [
    "### 1. Is gender independent of education level? A random sample of 395 people were surveyed and each person was asked to report the highest education level they obtained. The data that resulted from the survey is summarized in the following table:\n",
    "High-School Bachelor Masters Ph.D. Total<br>\n",
    "Female 60 54 46 41 201<hr>\n",
    "Male 40 44 53 57 194<hr>\n",
    "Total 100 98 99 98 395<hr><br>\n",
    "Question: Are gender and education level dependent at 5% level of\n",
    "significance? In other words, given the data collected above, is there a\n",
    "relationship between the gender of an individual and the level of education that they have obtained?"
   ]
  },
  {
   "cell_type": "code",
   "execution_count": 6,
   "metadata": {},
   "outputs": [
    {
     "name": "stdout",
     "output_type": "stream",
     "text": [
      "[40, 44, 53, 57, 60, 54, 46, 41]\n"
     ]
    },
    {
     "data": {
      "text/html": [
       "<div>\n",
       "<style scoped>\n",
       "    .dataframe tbody tr th:only-of-type {\n",
       "        vertical-align: middle;\n",
       "    }\n",
       "\n",
       "    .dataframe tbody tr th {\n",
       "        vertical-align: top;\n",
       "    }\n",
       "\n",
       "    .dataframe thead th {\n",
       "        text-align: right;\n",
       "    }\n",
       "</style>\n",
       "<table border=\"1\" class=\"dataframe\">\n",
       "  <thead>\n",
       "    <tr style=\"text-align: right;\">\n",
       "      <th></th>\n",
       "      <th>Education</th>\n",
       "      <th>Marks</th>\n",
       "      <th>Sex</th>\n",
       "    </tr>\n",
       "  </thead>\n",
       "  <tbody>\n",
       "    <tr>\n",
       "      <th>0</th>\n",
       "      <td>high_school</td>\n",
       "      <td>40</td>\n",
       "      <td>M</td>\n",
       "    </tr>\n",
       "    <tr>\n",
       "      <th>1</th>\n",
       "      <td>bachelors</td>\n",
       "      <td>44</td>\n",
       "      <td>M</td>\n",
       "    </tr>\n",
       "    <tr>\n",
       "      <th>2</th>\n",
       "      <td>masters</td>\n",
       "      <td>53</td>\n",
       "      <td>M</td>\n",
       "    </tr>\n",
       "    <tr>\n",
       "      <th>3</th>\n",
       "      <td>phd</td>\n",
       "      <td>57</td>\n",
       "      <td>M</td>\n",
       "    </tr>\n",
       "    <tr>\n",
       "      <th>4</th>\n",
       "      <td>high_school</td>\n",
       "      <td>60</td>\n",
       "      <td>F</td>\n",
       "    </tr>\n",
       "    <tr>\n",
       "      <th>5</th>\n",
       "      <td>bachelors</td>\n",
       "      <td>54</td>\n",
       "      <td>F</td>\n",
       "    </tr>\n",
       "    <tr>\n",
       "      <th>6</th>\n",
       "      <td>masters</td>\n",
       "      <td>46</td>\n",
       "      <td>F</td>\n",
       "    </tr>\n",
       "    <tr>\n",
       "      <th>7</th>\n",
       "      <td>phd</td>\n",
       "      <td>41</td>\n",
       "      <td>F</td>\n",
       "    </tr>\n",
       "  </tbody>\n",
       "</table>\n",
       "</div>"
      ],
      "text/plain": [
       "     Education  Marks Sex\n",
       "0  high_school     40   M\n",
       "1    bachelors     44   M\n",
       "2      masters     53   M\n",
       "3          phd     57   M\n",
       "4  high_school     60   F\n",
       "5    bachelors     54   F\n",
       "6      masters     46   F\n",
       "7          phd     41   F"
      ]
     },
     "execution_count": 6,
     "metadata": {},
     "output_type": "execute_result"
    }
   ],
   "source": [
    "import numpy as np\n",
    "import pandas as pd\n",
    "import scipy.stats as stats\n",
    "\n",
    "male=[40,44,53,57]\n",
    "female=[60,54,46,41]\n",
    "high_school=[60,40]\n",
    "bachelors=[54,44]\n",
    "masters=[46,53]\n",
    "phd=[41,57]\n",
    "\n",
    "marks=male+female\n",
    "print(marks)\n",
    "sex=['M','M','M','M','F','F','F','F',]\n",
    "education=['high_school','bachelors','masters','phd','high_school','bachelors','masters','phd',]\n",
    "df=pd.DataFrame({\"Education\":education,\"Marks\":marks,\"Sex\":sex})\n",
    "df\n"
   ]
  },
  {
   "cell_type": "code",
   "execution_count": 10,
   "metadata": {},
   "outputs": [
    {
     "data": {
      "text/html": [
       "<div>\n",
       "<style scoped>\n",
       "    .dataframe tbody tr th:only-of-type {\n",
       "        vertical-align: middle;\n",
       "    }\n",
       "\n",
       "    .dataframe tbody tr th {\n",
       "        vertical-align: top;\n",
       "    }\n",
       "\n",
       "    .dataframe thead th {\n",
       "        text-align: right;\n",
       "    }\n",
       "</style>\n",
       "<table border=\"1\" class=\"dataframe\">\n",
       "  <thead>\n",
       "    <tr style=\"text-align: right;\">\n",
       "      <th></th>\n",
       "      <th>Education</th>\n",
       "      <th>bachelors</th>\n",
       "      <th>high_school</th>\n",
       "      <th>masters</th>\n",
       "      <th>phd</th>\n",
       "      <th>All</th>\n",
       "    </tr>\n",
       "    <tr>\n",
       "      <th>Sex</th>\n",
       "      <th>Marks</th>\n",
       "      <th></th>\n",
       "      <th></th>\n",
       "      <th></th>\n",
       "      <th></th>\n",
       "      <th></th>\n",
       "    </tr>\n",
       "  </thead>\n",
       "  <tbody>\n",
       "    <tr>\n",
       "      <th rowspan=\"4\" valign=\"top\">F</th>\n",
       "      <th>41</th>\n",
       "      <td>0</td>\n",
       "      <td>0</td>\n",
       "      <td>0</td>\n",
       "      <td>1</td>\n",
       "      <td>1</td>\n",
       "    </tr>\n",
       "    <tr>\n",
       "      <th>46</th>\n",
       "      <td>0</td>\n",
       "      <td>0</td>\n",
       "      <td>1</td>\n",
       "      <td>0</td>\n",
       "      <td>1</td>\n",
       "    </tr>\n",
       "    <tr>\n",
       "      <th>54</th>\n",
       "      <td>1</td>\n",
       "      <td>0</td>\n",
       "      <td>0</td>\n",
       "      <td>0</td>\n",
       "      <td>1</td>\n",
       "    </tr>\n",
       "    <tr>\n",
       "      <th>60</th>\n",
       "      <td>0</td>\n",
       "      <td>1</td>\n",
       "      <td>0</td>\n",
       "      <td>0</td>\n",
       "      <td>1</td>\n",
       "    </tr>\n",
       "    <tr>\n",
       "      <th rowspan=\"4\" valign=\"top\">M</th>\n",
       "      <th>40</th>\n",
       "      <td>0</td>\n",
       "      <td>1</td>\n",
       "      <td>0</td>\n",
       "      <td>0</td>\n",
       "      <td>1</td>\n",
       "    </tr>\n",
       "    <tr>\n",
       "      <th>44</th>\n",
       "      <td>1</td>\n",
       "      <td>0</td>\n",
       "      <td>0</td>\n",
       "      <td>0</td>\n",
       "      <td>1</td>\n",
       "    </tr>\n",
       "    <tr>\n",
       "      <th>53</th>\n",
       "      <td>0</td>\n",
       "      <td>0</td>\n",
       "      <td>1</td>\n",
       "      <td>0</td>\n",
       "      <td>1</td>\n",
       "    </tr>\n",
       "    <tr>\n",
       "      <th>57</th>\n",
       "      <td>0</td>\n",
       "      <td>0</td>\n",
       "      <td>0</td>\n",
       "      <td>1</td>\n",
       "      <td>1</td>\n",
       "    </tr>\n",
       "    <tr>\n",
       "      <th>All</th>\n",
       "      <th></th>\n",
       "      <td>2</td>\n",
       "      <td>2</td>\n",
       "      <td>2</td>\n",
       "      <td>2</td>\n",
       "      <td>8</td>\n",
       "    </tr>\n",
       "  </tbody>\n",
       "</table>\n",
       "</div>"
      ],
      "text/plain": [
       "Education  bachelors  high_school  masters  phd  All\n",
       "Sex Marks                                           \n",
       "F   41             0            0        0    1    1\n",
       "    46             0            0        1    0    1\n",
       "    54             1            0        0    0    1\n",
       "    60             0            1        0    0    1\n",
       "M   40             0            1        0    0    1\n",
       "    44             1            0        0    0    1\n",
       "    53             0            0        1    0    1\n",
       "    57             0            0        0    1    1\n",
       "All                2            2        2    2    8"
      ]
     },
     "execution_count": 10,
     "metadata": {},
     "output_type": "execute_result"
    }
   ],
   "source": [
    "cross_tab=pd.crosstab([df.Sex,df.Marks],df.Education,margins=True)\n",
    "cross_tab"
   ]
  },
  {
   "cell_type": "code",
   "execution_count": 16,
   "metadata": {},
   "outputs": [
    {
     "data": {
      "text/html": [
       "<div>\n",
       "<style scoped>\n",
       "    .dataframe tbody tr th:only-of-type {\n",
       "        vertical-align: middle;\n",
       "    }\n",
       "\n",
       "    .dataframe tbody tr th {\n",
       "        vertical-align: top;\n",
       "    }\n",
       "\n",
       "    .dataframe thead th {\n",
       "        text-align: right;\n",
       "    }\n",
       "</style>\n",
       "<table border=\"1\" class=\"dataframe\">\n",
       "  <thead>\n",
       "    <tr style=\"text-align: right;\">\n",
       "      <th>Education</th>\n",
       "      <th>bachelors</th>\n",
       "      <th>high_school</th>\n",
       "      <th>masters</th>\n",
       "      <th>phd</th>\n",
       "      <th>All</th>\n",
       "    </tr>\n",
       "    <tr>\n",
       "      <th>Sex</th>\n",
       "      <th></th>\n",
       "      <th></th>\n",
       "      <th></th>\n",
       "      <th></th>\n",
       "      <th></th>\n",
       "    </tr>\n",
       "  </thead>\n",
       "  <tbody>\n",
       "    <tr>\n",
       "      <th>F</th>\n",
       "      <td>54</td>\n",
       "      <td>60</td>\n",
       "      <td>46</td>\n",
       "      <td>41</td>\n",
       "      <td>201</td>\n",
       "    </tr>\n",
       "    <tr>\n",
       "      <th>M</th>\n",
       "      <td>44</td>\n",
       "      <td>40</td>\n",
       "      <td>53</td>\n",
       "      <td>57</td>\n",
       "      <td>194</td>\n",
       "    </tr>\n",
       "    <tr>\n",
       "      <th>All</th>\n",
       "      <td>98</td>\n",
       "      <td>100</td>\n",
       "      <td>99</td>\n",
       "      <td>98</td>\n",
       "      <td>395</td>\n",
       "    </tr>\n",
       "  </tbody>\n",
       "</table>\n",
       "</div>"
      ],
      "text/plain": [
       "Education  bachelors  high_school  masters  phd  All\n",
       "Sex                                                 \n",
       "F                 54           60       46   41  201\n",
       "M                 44           40       53   57  194\n",
       "All               98          100       99   98  395"
      ]
     },
     "execution_count": 16,
     "metadata": {},
     "output_type": "execute_result"
    }
   ],
   "source": [
    "df1=pd.crosstab(df.Sex,df.Education,df.Marks,aggfunc=\"sum\",margins=True)\n",
    "df1"
   ]
  },
  {
   "cell_type": "code",
   "execution_count": 17,
   "metadata": {},
   "outputs": [
    {
     "data": {
      "text/html": [
       "<div>\n",
       "<style scoped>\n",
       "    .dataframe tbody tr th:only-of-type {\n",
       "        vertical-align: middle;\n",
       "    }\n",
       "\n",
       "    .dataframe tbody tr th {\n",
       "        vertical-align: top;\n",
       "    }\n",
       "\n",
       "    .dataframe thead th {\n",
       "        text-align: right;\n",
       "    }\n",
       "</style>\n",
       "<table border=\"1\" class=\"dataframe\">\n",
       "  <thead>\n",
       "    <tr style=\"text-align: right;\">\n",
       "      <th></th>\n",
       "      <th>bachelors</th>\n",
       "      <th>high_school</th>\n",
       "      <th>masters</th>\n",
       "      <th>phd</th>\n",
       "      <th>genderwise_total</th>\n",
       "    </tr>\n",
       "  </thead>\n",
       "  <tbody>\n",
       "    <tr>\n",
       "      <th>female</th>\n",
       "      <td>54</td>\n",
       "      <td>60</td>\n",
       "      <td>46</td>\n",
       "      <td>41</td>\n",
       "      <td>201</td>\n",
       "    </tr>\n",
       "    <tr>\n",
       "      <th>male</th>\n",
       "      <td>44</td>\n",
       "      <td>40</td>\n",
       "      <td>53</td>\n",
       "      <td>57</td>\n",
       "      <td>194</td>\n",
       "    </tr>\n",
       "    <tr>\n",
       "      <th>combined</th>\n",
       "      <td>98</td>\n",
       "      <td>100</td>\n",
       "      <td>99</td>\n",
       "      <td>98</td>\n",
       "      <td>395</td>\n",
       "    </tr>\n",
       "  </tbody>\n",
       "</table>\n",
       "</div>"
      ],
      "text/plain": [
       "          bachelors  high_school  masters  phd  genderwise_total\n",
       "female           54           60       46   41               201\n",
       "male             44           40       53   57               194\n",
       "combined         98          100       99   98               395"
      ]
     },
     "execution_count": 17,
     "metadata": {},
     "output_type": "execute_result"
    }
   ],
   "source": [
    "df1.columns=[\"bachelors\",\"high_school\",\"masters\",\"phd\",\"genderwise_total\"]\n",
    "df1.index=[\"female\",\"male\",\"combined\"]\n",
    "df1"
   ]
  },
  {
   "cell_type": "code",
   "execution_count": 18,
   "metadata": {},
   "outputs": [
    {
     "data": {
      "text/html": [
       "<div>\n",
       "<style scoped>\n",
       "    .dataframe tbody tr th:only-of-type {\n",
       "        vertical-align: middle;\n",
       "    }\n",
       "\n",
       "    .dataframe tbody tr th {\n",
       "        vertical-align: top;\n",
       "    }\n",
       "\n",
       "    .dataframe thead th {\n",
       "        text-align: right;\n",
       "    }\n",
       "</style>\n",
       "<table border=\"1\" class=\"dataframe\">\n",
       "  <thead>\n",
       "    <tr style=\"text-align: right;\">\n",
       "      <th></th>\n",
       "      <th>bachelors</th>\n",
       "      <th>high_school</th>\n",
       "      <th>masters</th>\n",
       "      <th>phd</th>\n",
       "    </tr>\n",
       "  </thead>\n",
       "  <tbody>\n",
       "    <tr>\n",
       "      <th>female</th>\n",
       "      <td>54</td>\n",
       "      <td>60</td>\n",
       "      <td>46</td>\n",
       "      <td>41</td>\n",
       "    </tr>\n",
       "    <tr>\n",
       "      <th>male</th>\n",
       "      <td>44</td>\n",
       "      <td>40</td>\n",
       "      <td>53</td>\n",
       "      <td>57</td>\n",
       "    </tr>\n",
       "  </tbody>\n",
       "</table>\n",
       "</div>"
      ],
      "text/plain": [
       "        bachelors  high_school  masters  phd\n",
       "female         54           60       46   41\n",
       "male           44           40       53   57"
      ]
     },
     "execution_count": 18,
     "metadata": {},
     "output_type": "execute_result"
    }
   ],
   "source": [
    "df2=df1.iloc[0:2,0:4]\n",
    "df2"
   ]
  },
  {
   "cell_type": "code",
   "execution_count": 21,
   "metadata": {},
   "outputs": [
    {
     "data": {
      "text/html": [
       "<div>\n",
       "<style scoped>\n",
       "    .dataframe tbody tr th:only-of-type {\n",
       "        vertical-align: middle;\n",
       "    }\n",
       "\n",
       "    .dataframe tbody tr th {\n",
       "        vertical-align: top;\n",
       "    }\n",
       "\n",
       "    .dataframe thead th {\n",
       "        text-align: right;\n",
       "    }\n",
       "</style>\n",
       "<table border=\"1\" class=\"dataframe\">\n",
       "  <thead>\n",
       "    <tr style=\"text-align: right;\">\n",
       "      <th></th>\n",
       "      <th>Bachelors</th>\n",
       "      <th>high_school</th>\n",
       "      <th>master</th>\n",
       "      <th>phd</th>\n",
       "    </tr>\n",
       "  </thead>\n",
       "  <tbody>\n",
       "    <tr>\n",
       "      <th>Female</th>\n",
       "      <td>49.868354</td>\n",
       "      <td>50.886076</td>\n",
       "      <td>50.377215</td>\n",
       "      <td>49.868354</td>\n",
       "    </tr>\n",
       "    <tr>\n",
       "      <th>Male</th>\n",
       "      <td>48.131646</td>\n",
       "      <td>49.113924</td>\n",
       "      <td>48.622785</td>\n",
       "      <td>48.131646</td>\n",
       "    </tr>\n",
       "  </tbody>\n",
       "</table>\n",
       "</div>"
      ],
      "text/plain": [
       "        Bachelors  high_school     master        phd\n",
       "Female  49.868354    50.886076  50.377215  49.868354\n",
       "Male    48.131646    49.113924  48.622785  48.131646"
      ]
     },
     "execution_count": 21,
     "metadata": {},
     "output_type": "execute_result"
    }
   ],
   "source": [
    "df3=np.outer(df1[\"genderwise_total\"][0:2],df1.loc[\"combined\"][0:4])/395.0\n",
    "df3=pd.DataFrame(df3)\n",
    "df3.columns=[\"Bachelors\",\"high_school\",\"master\",\"phd\"]\n",
    "df3.index=[\"Female\",\"Male\"]\n",
    "df3"
   ]
  },
  {
   "cell_type": "code",
   "execution_count": 23,
   "metadata": {},
   "outputs": [
    {
     "name": "stdout",
     "output_type": "stream",
     "text": [
      "0.0\n"
     ]
    }
   ],
   "source": [
    "chi_squared_stat=(((df3-df2)**2)/df3).sum().sum()\n",
    "print(chi_squared_stat)"
   ]
  },
  {
   "cell_type": "code",
   "execution_count": 24,
   "metadata": {},
   "outputs": [
    {
     "name": "stdout",
     "output_type": "stream",
     "text": [
      "critical value\n",
      "7.814727903251179\n"
     ]
    }
   ],
   "source": [
    "cvalue=stats.chi2.ppf(q=0.95,df=3)\n",
    "print(\"critical value\")\n",
    "print(cvalue)"
   ]
  },
  {
   "cell_type": "code",
   "execution_count": 26,
   "metadata": {},
   "outputs": [
    {
     "name": "stdout",
     "output_type": "stream",
     "text": [
      "P value\n",
      "1.0\n"
     ]
    }
   ],
   "source": [
    "p_value=1-stats.chi2.cdf(x=chi_squared_stat,df=3)\n",
    "print(\"P value\")\n",
    "print(p_value)"
   ]
  },
  {
   "cell_type": "code",
   "execution_count": 34,
   "metadata": {},
   "outputs": [
    {
     "name": "stdout",
     "output_type": "stream",
     "text": [
      "(8.006066246262538, 0.045886500891747214, 3, array([[49.86835443, 50.88607595, 50.37721519, 49.86835443],\n",
      "       [48.13164557, 49.11392405, 48.62278481, 48.13164557]]))\n",
      "____________________________________________________________________________________________________\n",
      "The output shows the chi-square statistic = 8,the p-value as 0.045 and the degrees of freedom as 3\n",
      "The critical value with 3 degree of freedom is 7.815. Since 8.006 > 7.815,therefore we reject thenull hypothesis and conclude that the education level depends on gender at a 5% level of significance\n"
     ]
    }
   ],
   "source": [
    "result=stats.chi2_contingency(observed=df2)\n",
    "print(result)\n",
    "\n",
    "print('_'*100)\n",
    "print('The output shows the chi-square statistic = 8,the p-value as 0.045 and the degrees of freedom as 3')\n",
    "print('The critical value with 3 degree of freedom is 7.815. Since 8.006 > 7.815,therefore we reject the'\n",
    "         'null hypothesis and conclude that the education level depends on gender at a 5% level of significance')"
   ]
  },
  {
   "cell_type": "markdown",
   "metadata": {},
   "source": [
    "### 2. Using the following data, perform a one-way analysis of variance using α=.05.\n",
    "Write up the results in APA format.<br>\n",
    "[Group1: 51, 45, 33, 45, 67]<br>\n",
    "[Group2: 23, 43, 23, 43, 45]<br>\n",
    "[Group3: 56, 76, 74, 87, 56]\n"
   ]
  },
  {
   "cell_type": "code",
   "execution_count": 44,
   "metadata": {},
   "outputs": [
    {
     "name": "stdout",
     "output_type": "stream",
     "text": [
      "F Statistic value 9.747205503009463,p-value 0.0030597541434430556\n",
      "True\n",
      "-----------------------------------------------------------------\n",
      "The test result suggests the groups have different same sample means in this example,since the p-value is significant atthe p-value is significant at a 99% confidence level.Here the p-value is 0.00305 which is < 0.05\n"
     ]
    }
   ],
   "source": [
    "import scipy.stats as stats\n",
    "Group1=[51,45,33,45,67]\n",
    "Group2=[23,43,23,43,45]\n",
    "Group3=[56,76,74,87,56]\n",
    "\n",
    "statistic,pvalue = stats.f_oneway(Group1,Group2,Group3)\n",
    "print(\"F Statistic value {},p-value {}\".format(statistic,pvalue))\n",
    "if pvalue<0.05:\n",
    "    print('True')\n",
    "else:\n",
    "    print('False')\n",
    "print('-'* 65)\n",
    "print('The test result suggests the groups have different same sample means in this example,since the p-value is significant at'\n",
    "         'the p-value is significant at a 99% confidence level.Here the p-value is 0.00305 which is < 0.05')"
   ]
  },
  {
   "cell_type": "markdown",
   "metadata": {},
   "source": [
    "### 3. Calculate F Test for given 10, 20, 30, 40, 50 and 5,10,15, 20, 25.\n",
    "For 10, 20, 30, 40, 50:"
   ]
  },
  {
   "cell_type": "code",
   "execution_count": 1,
   "metadata": {},
   "outputs": [
    {
     "name": "stdout",
     "output_type": "stream",
     "text": [
      "F test result is:\n"
     ]
    },
    {
     "data": {
      "text/plain": [
       "F_onewayResult(statistic=3.6, pvalue=0.0943497728424377)"
      ]
     },
     "execution_count": 1,
     "metadata": {},
     "output_type": "execute_result"
    }
   ],
   "source": [
    "import numpy as np\n",
    "import scipy.stats as st\n",
    "a=[10,20,30,40,50]\n",
    "b=[5,10,15,20,25]\n",
    "print('F test result is:')\n",
    "st.f_oneway(a,b)"
   ]
  },
  {
   "cell_type": "markdown",
   "metadata": {},
   "source": [
    "# OR"
   ]
  },
  {
   "cell_type": "code",
   "execution_count": 2,
   "metadata": {},
   "outputs": [
    {
     "data": {
      "text/plain": [
       "F_onewayResult(statistic=3.6, pvalue=0.0943497728424377)"
      ]
     },
     "execution_count": 2,
     "metadata": {},
     "output_type": "execute_result"
    }
   ],
   "source": [
    "import numpy as np\n",
    "import scipy.stats as st\n",
    "st.f_oneway([10,20,30,40,50],[5,10,15,20,25])"
   ]
  }
 ],
 "metadata": {
  "kernelspec": {
   "display_name": "Python 3",
   "language": "python",
   "name": "python3"
  },
  "language_info": {
   "codemirror_mode": {
    "name": "ipython",
    "version": 3
   },
   "file_extension": ".py",
   "mimetype": "text/x-python",
   "name": "python",
   "nbconvert_exporter": "python",
   "pygments_lexer": "ipython3",
   "version": "3.7.3"
  }
 },
 "nbformat": 4,
 "nbformat_minor": 2
}
